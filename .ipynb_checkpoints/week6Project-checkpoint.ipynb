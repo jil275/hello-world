{
 "cells": [
  {
   "cell_type": "code",
   "execution_count": 7,
   "metadata": {},
   "outputs": [
    {
     "name": "stdin",
     "output_type": "stream",
     "text": [
      "What's your name?  fg\n",
      "How old are you?  112\n"
     ]
    },
    {
     "name": "stdout",
     "output_type": "stream",
     "text": [
      "You are a Adult, welcome to misery.\n"
     ]
    }
   ],
   "source": [
    "def greeting():\n",
    "    print()\n",
    "def ageGroup(age):\n",
    "    if 0 < age < 1:\n",
    "        print(\"You are a baby\")\n",
    "    elif 1 <= age <= 3:\n",
    "        print(\"You are a toddler\")\n",
    "    elif 3 <= age <= 9:\n",
    "        print(\"You are a kid\")\n",
    "    elif 10 <= age <= 12:\n",
    "        print(\"You are a Tween\")\n",
    "    elif 13 <= age <= 17:\n",
    "        print(\"You are a Teen\")\n",
    "    elif 18 <= age <120:\n",
    "        print(\"You are a Adult, welcome to misery.\")\n",
    "    else:\n",
    "        print(\"No one can live that long!\")\n",
    "        \n",
    "namePrompt = \"What's your name? \"\n",
    "agePrompt = \"How old are you? \"\n",
    "name = input(namePrompt)\n",
    "age = int(input(agePrompt))\n",
    "ageGroup(age)"
   ]
  },
  {
   "cell_type": "code",
   "execution_count": null,
   "metadata": {},
   "outputs": [],
   "source": []
  }
 ],
 "metadata": {
  "kernelspec": {
   "display_name": "Python 3.7",
   "language": "python",
   "name": "python3"
  },
  "language_info": {
   "codemirror_mode": {
    "name": "ipython",
    "version": 3
   },
   "file_extension": ".py",
   "mimetype": "text/x-python",
   "name": "python",
   "nbconvert_exporter": "python",
   "pygments_lexer": "ipython3",
   "version": "3.7.0"
  }
 },
 "nbformat": 4,
 "nbformat_minor": 2
}
